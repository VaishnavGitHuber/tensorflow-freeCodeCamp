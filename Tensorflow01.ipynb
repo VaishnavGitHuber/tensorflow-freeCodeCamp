{
  "nbformat": 4,
  "nbformat_minor": 0,
  "metadata": {
    "colab": {
      "provenance": []
    },
    "kernelspec": {
      "name": "python3",
      "display_name": "Python 3"
    },
    "language_info": {
      "name": "python"
    }
  },
  "cells": [
    {
      "cell_type": "code",
      "execution_count": 4,
      "metadata": {
        "id": "7sPZqzfMg9ph"
      },
      "outputs": [],
      "source": [
        "# importing the necessory libraries\n",
        "import tensorflow as tf"
      ]
    },
    {
      "cell_type": "markdown",
      "source": [
        "### Tensor\n",
        "* Tensor is a genrallization of vectors and Matrix"
      ],
      "metadata": {
        "id": "7Px0KA_dhbhA"
      }
    },
    {
      "cell_type": "code",
      "source": [
        "# Zero order tensor\n",
        "tensor1 = tf.Variable(34, tf.int32)\n",
        "tensor2 = tf.Variable(\"Hello\", tf.string)\n",
        "tensor3 = tf.Variable(6.7, tf.float64)"
      ],
      "metadata": {
        "id": "9UsZFC3thEiG"
      },
      "execution_count": 11,
      "outputs": []
    },
    {
      "cell_type": "code",
      "source": [
        "# rank 1 tensor\n",
        "rank1_tensor = tf.Variable([\"Apple\"], tf.string)\n",
        "# rank 2 tensor\n",
        "rank2_tensor = tf.Variable([[1,2,3,4],[5,6,7,8],[9,10,11,12]], tf.int64)"
      ],
      "metadata": {
        "id": "BxXAAKJrh3xh"
      },
      "execution_count": 13,
      "outputs": []
    },
    {
      "cell_type": "markdown",
      "source": [
        "### Rank/Digree of the tensor\n",
        "* It simply Means the dimension of the tensor"
      ],
      "metadata": {
        "id": "yFHJNdfQjY9a"
      }
    },
    {
      "cell_type": "code",
      "source": [
        "# Creating a 2nd order tensor\n",
        "tensor1 = tf.Variable([[1,2,3],[4,5,6]],tf.int64)\n",
        "print(tf.rank(tensor1))"
      ],
      "metadata": {
        "colab": {
          "base_uri": "https://localhost:8080/"
        },
        "id": "3r6m6_QAjXuP",
        "outputId": "e8f6a403-6594-45c9-c343-158c99982a9d"
      },
      "execution_count": 14,
      "outputs": [
        {
          "output_type": "stream",
          "name": "stdout",
          "text": [
            "tf.Tensor(2, shape=(), dtype=int32)\n"
          ]
        }
      ]
    },
    {
      "cell_type": "code",
      "source": [
        "# Creating a Rank 3 tensor\n",
        "tensor2 = tf.Variable([[[1,2,3],[4,5,6]],[[1,2,3],[4,5,6]]])\n",
        "print(tf.rank(tensor2))"
      ],
      "metadata": {
        "colab": {
          "base_uri": "https://localhost:8080/"
        },
        "id": "tQzszb0zj0Bb",
        "outputId": "f444839a-372f-4f6c-9dfc-8ecd05a36f06"
      },
      "execution_count": 16,
      "outputs": [
        {
          "output_type": "stream",
          "name": "stdout",
          "text": [
            "tf.Tensor(3, shape=(), dtype=int32)\n"
          ]
        }
      ]
    },
    {
      "cell_type": "markdown",
      "source": [
        "### Shape of the tensor\n",
        "* It gives the discription about the number of elements existing in each diemension."
      ],
      "metadata": {
        "id": "67N8PgfXkSYp"
      }
    },
    {
      "cell_type": "code",
      "source": [
        "tensor2 = tf.Variable([[[1,2,3],[4,5,6]],[[1,2,3],[4,5,6]]])\n",
        "print(tensor2.shape)"
      ],
      "metadata": {
        "colab": {
          "base_uri": "https://localhost:8080/"
        },
        "id": "uduwjZuokFC7",
        "outputId": "d32fdfdd-be92-4e5f-8ceb-473409b65f23"
      },
      "execution_count": 19,
      "outputs": [
        {
          "output_type": "stream",
          "name": "stdout",
          "text": [
            "(2, 2, 3)\n"
          ]
        }
      ]
    },
    {
      "cell_type": "markdown",
      "source": [
        "### Reshaping the tensor\n",
        "* This is used to reshape the existing Tensor  "
      ],
      "metadata": {
        "id": "BIX015lHkxHu"
      }
    },
    {
      "cell_type": "code",
      "source": [
        "tensor3 = tf.Variable([1,2,3,4,5,6,7,8], tf.int64)\n",
        "print(\"tensor3.shape = \",tensor3.shape)\n",
        "tensor3 = tf.reshape(tensor3, (2,2,2))\n",
        "print(\"tensor3.shape = \",tensor3.shape)"
      ],
      "metadata": {
        "colab": {
          "base_uri": "https://localhost:8080/"
        },
        "id": "t3O_V-MWkjOb",
        "outputId": "475c11fc-58aa-48de-964f-760faf480159"
      },
      "execution_count": 23,
      "outputs": [
        {
          "output_type": "stream",
          "name": "stdout",
          "text": [
            "tensor3.shape =  (8,)\n",
            "tensor3.shape =  (2, 2, 2)\n"
          ]
        }
      ]
    },
    {
      "cell_type": "markdown",
      "source": [
        "### Ones ,Zeros"
      ],
      "metadata": {
        "id": "xkT8dHPXlc84"
      }
    },
    {
      "cell_type": "code",
      "source": [
        "tensor_zeros = tf.zeros((2,3,4),tf.float64)\n",
        "tensor_ones = tf.ones((2,5),tf.int64)\n",
        "print(\"tensor_zeros= \" ,tensor_zeros)\n",
        "print(\"Tensor_ones= \", tensor_ones)"
      ],
      "metadata": {
        "colab": {
          "base_uri": "https://localhost:8080/"
        },
        "id": "mDYyb-eClJUL",
        "outputId": "69bd034f-b88b-48a8-f026-faf831f34275"
      },
      "execution_count": 25,
      "outputs": [
        {
          "output_type": "stream",
          "name": "stdout",
          "text": [
            "tensor_zeros=  tf.Tensor(\n",
            "[[[0. 0. 0. 0.]\n",
            "  [0. 0. 0. 0.]\n",
            "  [0. 0. 0. 0.]]\n",
            "\n",
            " [[0. 0. 0. 0.]\n",
            "  [0. 0. 0. 0.]\n",
            "  [0. 0. 0. 0.]]], shape=(2, 3, 4), dtype=float64)\n",
            "Tensor_ones=  tf.Tensor(\n",
            "[[1 1 1 1 1]\n",
            " [1 1 1 1 1]], shape=(2, 5), dtype=int64)\n"
          ]
        }
      ]
    },
    {
      "cell_type": "markdown",
      "source": [
        "### Tensor slicing"
      ],
      "metadata": {
        "id": "BrS4hRycmS3q"
      }
    },
    {
      "cell_type": "code",
      "source": [
        "# Creating a 2D tensor\n",
        "tensor = tf.Variable([[2,4,6],[8,10,12]],tf.int64)\n",
        "print(\"tensor[0,0] = \",tensor[0,0])\n",
        "print(\"tensor[0,2] = \",tensor[0,2])\n",
        "print(\"tensor[1,1] = \",tensor[1,1])"
      ],
      "metadata": {
        "colab": {
          "base_uri": "https://localhost:8080/"
        },
        "id": "p6ykeRnll-c0",
        "outputId": "5f93dc66-e457-456d-9e96-deda3590f873"
      },
      "execution_count": 35,
      "outputs": [
        {
          "output_type": "stream",
          "name": "stdout",
          "text": [
            "tensor[0,0] =  tf.Tensor(2, shape=(), dtype=int32)\n",
            "tensor[0,2] =  tf.Tensor(6, shape=(), dtype=int32)\n",
            "tensor[1,1] =  tf.Tensor(10, shape=(), dtype=int32)\n"
          ]
        }
      ]
    },
    {
      "cell_type": "code",
      "source": [
        "# Slicing the tensor of all the rows with 1st column\n",
        "print(\"tensor[:,1:2] = \", tensor[:,1:2])"
      ],
      "metadata": {
        "colab": {
          "base_uri": "https://localhost:8080/"
        },
        "id": "tCU3vTO0mlj7",
        "outputId": "931eb8e7-b356-4fb7-8278-de391e770b92"
      },
      "execution_count": 40,
      "outputs": [
        {
          "output_type": "stream",
          "name": "stdout",
          "text": [
            "tensor[:,1:2] =  tf.Tensor(\n",
            "[[ 4]\n",
            " [10]], shape=(2, 1), dtype=int32)\n"
          ]
        }
      ]
    },
    {
      "cell_type": "code",
      "source": [
        "# Scling the first row and 1nd and 2nd column\n",
        "tensor[0:1,1:]"
      ],
      "metadata": {
        "colab": {
          "base_uri": "https://localhost:8080/"
        },
        "id": "caSOfi2snVOL",
        "outputId": "c56d1251-60c4-4d39-e7ef-7728a9b8556b"
      },
      "execution_count": 46,
      "outputs": [
        {
          "output_type": "execute_result",
          "data": {
            "text/plain": [
              "<tf.Tensor: shape=(1, 2), dtype=int32, numpy=array([[4, 6]], dtype=int32)>"
            ]
          },
          "metadata": {},
          "execution_count": 46
        }
      ]
    }
  ]
}